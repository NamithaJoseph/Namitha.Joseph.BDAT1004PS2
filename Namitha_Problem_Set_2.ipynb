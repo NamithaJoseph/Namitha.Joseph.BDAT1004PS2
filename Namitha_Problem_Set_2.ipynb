{
 "cells": [
  {
   "cell_type": "markdown",
   "id": "bb897079",
   "metadata": {},
   "source": [
    "Question 1\n",
    "\n",
    "In this code, variable 'a' is declared as a global variable, which means that every time function 'b' is invoked, it passes the value of 'a' to function 'c' and returns the result of 'a' incremented by 2. As a result, when 'b' is called for the first time, it sets the value of 'a' to 2, and when called for the second time, it sets 'a' to 4. Consequently, when 'b' is called for the third time, the returned output is 6."
   ]
  },
  {
   "cell_type": "code",
   "execution_count": 1,
   "id": "7310e857",
   "metadata": {},
   "outputs": [
    {
     "name": "stdout",
     "output_type": "stream",
     "text": [
      "6\n"
     ]
    }
   ],
   "source": [
    "try:\n",
    "    a = 0\n",
    "    def b():\n",
    "     global a\n",
    "     a = c(a)\n",
    "    def c(a):\n",
    "     return a + 2\n",
    "\n",
    "    b()\n",
    "    b()\n",
    "    b()\n",
    "    print(a)\n",
    "except Exception as e:\n",
    "    print(e.__class__, \" Exception has occurred.\")"
   ]
  },
  {
   "cell_type": "markdown",
   "id": "148cea2b",
   "metadata": {},
   "source": [
    "Question 2"
   ]
  },
  {
   "cell_type": "code",
   "execution_count": 4,
   "id": "7f0bc32f",
   "metadata": {},
   "outputs": [
    {
     "name": "stdout",
     "output_type": "stream",
     "text": [
      "141\n",
      "File idterm.py not found!\n"
     ]
    }
   ],
   "source": [
    "def fileLength(filename):\n",
    "    try:\n",
    "        demofile = open(filename)\n",
    "        inputlen = demofile.read()\n",
    "        demofile.close()\n",
    "        print(len(inputlen))\n",
    "    except:\n",
    "        print(\"File \"+filename+\" not found!\")\n",
    "fileLength(\"midterm.py\")\n",
    "fileLength(\"idterm.py\")"
   ]
  },
  {
   "cell_type": "markdown",
   "id": "1ae7e197",
   "metadata": {},
   "source": [
    "Question 3"
   ]
  },
  {
   "cell_type": "code",
   "execution_count": 3,
   "id": "2cbd7056",
   "metadata": {},
   "outputs": [
    {
     "name": "stdout",
     "output_type": "stream",
     "text": [
      "I am a Kangaroo located at coordinates ( 0,0)\n",
      "['doll', 'firetruck', 'kitten']\n",
      "I am a Kangaroo located at coordinates ( 3,0)\n"
     ]
    }
   ],
   "source": [
    "try:\n",
    "    class Marsupial:                \n",
    "\n",
    "        def __init__(inst,x,y):       #defining a constructor to take input x,y variables of parent class\n",
    "            inst.pouch=[]                   \n",
    "\n",
    "    # inserting the items to the list\n",
    "        def put_in_pouch(inst,items):   \n",
    "            inst.pouch.append(items)\n",
    "\n",
    "    # to display the items in the list\n",
    "        def pouch_contents(inst):           \n",
    "            return inst.pouch\n",
    "\n",
    "    # Kangaroo Sub-class\n",
    "    class Kangaroo(Marsupial): \n",
    "    \n",
    "    # extending the Marsupial __init__ constructor\n",
    "        def __init__(inst,x,y):              \n",
    "            super().__init__(x,y)     \n",
    "            inst.dx = 0                      \n",
    "            inst.dy = 0                        \n",
    "\n",
    "    # supports method jump\n",
    "        def jump(inst,x,y):                 \n",
    "            inst.dx += x    #defining jump function to jump the coordinates of Kangaroo according to the input \n",
    "\n",
    "    #overloading the _str_()\n",
    "        def __str__(inst):           \n",
    "\n",
    "            return ('I am a Kangaroo located at coordinates ( {},{})'.format(inst.dx,inst.dy))\n",
    "\n",
    "    k = Kangaroo(0,0)\n",
    "    print(k)\n",
    "    k.put_in_pouch('doll')\n",
    "    k.put_in_pouch('firetruck')\n",
    "    k.put_in_pouch('kitten')\n",
    "    k.pouch_contents()\n",
    "    print(k.pouch)  \n",
    "    k.jump(1,0)\n",
    "    k.jump(1,0)\n",
    "    k.jump(1,0)\n",
    "    print(k)\n",
    "except Exception as e:\n",
    "    print(e.__class__, \" Exception has occurred.\")"
   ]
  },
  {
   "cell_type": "markdown",
   "id": "f4f83ed3",
   "metadata": {},
   "source": [
    "Question 4"
   ]
  },
  {
   "cell_type": "code",
   "execution_count": 5,
   "id": "e3ac38c5",
   "metadata": {},
   "outputs": [
    {
     "name": "stdout",
     "output_type": "stream",
     "text": [
      "1\n",
      "10\n",
      "5\n",
      "16\n",
      "8\n",
      "4\n",
      "2\n",
      "1\n"
     ]
    }
   ],
   "source": [
    "try:\n",
    "    def collatz (x):\n",
    "        if(x != 1):\n",
    "            print(x ,end ='\\n')\n",
    "        if(x == 1):\n",
    "            print(x ,end ='\\n')\n",
    "            return x\n",
    "        if(x%2 == 0):\n",
    "            x = x // 2\n",
    "            collatz(x)\n",
    "        else:\n",
    "            x= 3*x + 1\n",
    "            collatz(x)\n",
    "    collatz(1)\n",
    "    collatz(10)\n",
    "except Exception as e:\n",
    "    print(e.__class__, \" Exception has occurred.\")"
   ]
  },
  {
   "cell_type": "markdown",
   "id": "3ea9f5a4",
   "metadata": {},
   "source": [
    "Question 5"
   ]
  },
  {
   "cell_type": "code",
   "execution_count": 6,
   "id": "b599a68b",
   "metadata": {},
   "outputs": [
    {
     "name": "stdout",
     "output_type": "stream",
     "text": [
      "0\n",
      "1\n",
      "11\n",
      "1001\n"
     ]
    }
   ],
   "source": [
    "try:\n",
    "    num =\"\"\n",
    "    def binary (n):\n",
    "        global num\n",
    "        if(n!=1): # if input number not equal to 1\n",
    "            if(n==0):\n",
    "                print(\"0\")\n",
    "            else:\n",
    "                a=\"\"\n",
    "                rem = int(n%2)\n",
    "                a =str(rem)\n",
    "                num+=a\n",
    "                n =int(n/2)\n",
    "                binary(n)\n",
    "        else:\n",
    "            num +=\"1\"\n",
    "            num = num [::-1] \n",
    "            print(num)\n",
    "            num=\"\"\n",
    "\n",
    "    binary(0)\n",
    "    binary(1)\n",
    "    binary(3)\n",
    "    binary(9)\n",
    "except Exception as e:\n",
    "    print(e.__class__, \" Exception has occurred.\")"
   ]
  },
  {
   "cell_type": "markdown",
   "id": "f7442a7b",
   "metadata": {},
   "source": [
    "Question 6"
   ]
  },
  {
   "cell_type": "code",
   "execution_count": 7,
   "id": "718553da",
   "metadata": {},
   "outputs": [
    {
     "name": "stdout",
     "output_type": "stream",
     "text": [
      "W3C Mission\n",
      " Principles\n"
     ]
    }
   ],
   "source": [
    "try:\n",
    "    from html.parser import HTMLParser\n",
    "    a1='False'\n",
    "    a2='False'\n",
    "    class HeadingParser(HTMLParser):  \n",
    "        def handle_starttag(self, tag, attrs):\n",
    "            if tag == 'h1':\n",
    "                global a1\n",
    "                a1 = \"True\"\n",
    "            if tag == 'h2':\n",
    "                global a2\n",
    "                a2 = \"True\"  \n",
    "        def handle_endtag(self, tag):\n",
    "            if a1 == \"False\":\n",
    "                pass\n",
    "            if a2 == \"False\":\n",
    "                pass\n",
    "        def handle_data(self, data):\n",
    "            global a1,a2\n",
    "            if a1 == \"True\": \n",
    "                print(data)\n",
    "                a1='False'    \n",
    "            if a2 == \"True\":        \n",
    "                print(' ',end='')\n",
    "                print(data)\n",
    "                a2 = 'False'\n",
    "    demofile = open('w3c.html') \n",
    "    content = demofile.read() \n",
    "    demofile.close() \n",
    "    hp = HeadingParser() \n",
    "    hp.feed(content) \n",
    "except Exception as e:\n",
    "    print(e.__class__, \" Exception has occurred.\")"
   ]
  },
  {
   "cell_type": "markdown",
   "id": "2bc76726",
   "metadata": {},
   "source": [
    "Question 7"
   ]
  },
  {
   "cell_type": "code",
   "execution_count": 17,
   "id": "db238a0b",
   "metadata": {},
   "outputs": [
    {
     "name": "stdout",
     "output_type": "stream",
     "text": [
      "http://reed.cs.depaul.edu/lperkovic/test1.html\n",
      " http://reed.cs.depaul.edu/lperkovic/test2.html\n",
      "  http://reed.cs.depaul.edu/lperkovic/test4.html\n",
      " http://reed.cs.depaul.edu/lperkovic/test3.html\n",
      "  http://reed.cs.depaul.edu/lperkovic/test4.html\n"
     ]
    }
   ],
   "source": [
    "from urllib.request import urlopen\n",
    "from urllib.parse import urljoin\n",
    "from html.parser import HTMLParser\n",
    "\n",
    "try:\n",
    "    class LinkParser(HTMLParser):\n",
    "\n",
    "        def __init__(self, starting_url):\n",
    "\n",
    "            HTMLParser.__init__(self)\n",
    "            self.starting_url = starting_url\n",
    "            self.available_links = []\n",
    "\n",
    "        def get_links(self):\n",
    "            return self.available_links\n",
    "\n",
    "        def handle_starttag(self, tag, attrs):\n",
    "            if tag == 'a':\n",
    "                for attr in attrs:          \n",
    "                    if attr[0] == 'href': \n",
    "                        absolute = urljoin(self.starting_url, attr[1])\n",
    "                        if absolute[:4] == 'http':\n",
    "                            self.available_links.append(absolute)\n",
    "\n",
    "\n",
    "    all_links = []\n",
    "    def webdir(starting_url, depth, index):\n",
    "        global all_links\n",
    "        res = urlopen(starting_url)\n",
    "        content = res.read().decode()\n",
    "        link_parser = LinkParser(starting_url)\n",
    "        link_parser.feed(content)\n",
    "        all_links = link_parser.get_links()\n",
    "        print(index * \" \" + starting_url)\n",
    "        if depth == 0:\n",
    "            return \n",
    "        for link in all_links: \n",
    "            webdir(link, depth - 1, index + 1)    \n",
    "\n",
    "\n",
    "    webdir('http://reed.cs.depaul.edu/lperkovic/test1.html', 2, 0)\n",
    "\n",
    "except Exception as e:\n",
    "    print(e.__class__, \" Exception has occurred.\")"
   ]
  },
  {
   "cell_type": "markdown",
   "id": "b2f8b4e7",
   "metadata": {},
   "source": [
    "Question 8"
   ]
  },
  {
   "cell_type": "code",
   "execution_count": 31,
   "id": "ee52f527",
   "metadata": {},
   "outputs": [
    {
     "name": "stdout",
     "output_type": "stream",
     "text": [
      "Output 1: All the temperature data\n",
      "(24.8,)(28.4,)(27.9,)(27.6,)(4.2,)(8.3,)(15.7,)(10.4,)(13.6,)(20.7,)(27.7,)(22.2,)\n",
      "\n",
      "Output 2: All the cities, but without repetition\n",
      "('Mumbai',)('London',)('Cairo',)\n",
      "\n",
      "Output 3: All the records for India\n",
      "('Mumbai', 'India', 'Winter', 24.8, 5.9)('Mumbai', 'India', 'Spring', 28.4, 16.2)('Mumbai', 'India', 'Summer', 27.9, 1549.4)('Mumbai', 'India', 'Fall', 27.6, 346)\n",
      "\n",
      "Output 4: All the Fall records\n",
      "('Mumbai', 'India', 'Fall', 27.6, 346)('London', 'United Kingdom', 'Fall', 10.4, 218.5)('Cairo', 'Egypt', 'Fall', 22.2, 4.5)\n",
      "\n",
      "Output 5: The city, country, and season for which the average rainfall is between 200 and 400 millimeters\n",
      "('Mumbai', 'India', 'Fall')('London', 'United Kingdom', 'Winter')('London', 'United Kingdom', 'Fall')\n",
      "\n",
      "Output 6: The city and country for which the average Fall temperature is above 20 degrees, in increasing temperature order\n",
      "('Cairo', 'Egypt')('Mumbai', 'India')\n",
      "\n",
      "Output 7: The total annual rainfall for Cairo\n",
      "(27.6,)\n",
      "\n",
      "Output 8: The total rainfall for each season\n",
      "('Fall', 569.0)('Spring', 192.29999999999998)('Summer', 1706.5)('Winter', 230.1)"
     ]
    }
   ],
   "source": [
    "try:\n",
    "    import sqlite3\n",
    "    conn = sqlite3.connect('web.db')\n",
    "    conn.execute('''\n",
    "    CREATE TABLE IF NOT EXISTS city_season(city text, \n",
    "                          country text, \n",
    "                          season integer, \n",
    "                          temperature integer,\n",
    "                          rainfall integer);''')\n",
    "    conn.commit()\n",
    "    cur = conn.cursor()\n",
    "    conn.execute(\"INSERT INTO city_season VALUES('Mumbai', 'India', 'Winter', 24.8, 5.9);\")\n",
    "    conn.execute(\"INSERT INTO city_season VALUES('Mumbai', 'India', 'Spring', 28.4, 16.2);\")\n",
    "    conn.execute(\"INSERT INTO city_season VALUES('Mumbai', 'India', 'Summer', 27.9, 1549.4);\")\n",
    "    conn.execute(\"INSERT INTO city_season VALUES('Mumbai', 'India', 'Fall', 27.6, 346.0);\")\n",
    "    conn.execute(\"INSERT INTO city_season VALUES('London', 'United Kingdom', 'Winter', 4.2, 207.7);\")\n",
    "    conn.execute(\"INSERT INTO city_season VALUES('London', 'United Kingdom', 'Spring', 8.3, 169.6 );\")\n",
    "    conn.execute(\"INSERT INTO city_season VALUES('London', 'United Kingdom', 'Summer', 15.7, 157.0);\")\n",
    "    conn.execute(\"INSERT INTO city_season VALUES('London', 'United Kingdom', 'Fall', 10.4, 218.5);\")\n",
    "    conn.execute(\"INSERT INTO city_season VALUES('Cairo', 'Egypt', 'Winter', 13.6, 16.5);\")\n",
    "    conn.execute(\"INSERT INTO city_season VALUES('Cairo', 'Egypt', 'Spring', 20.7, 6.5);\")\n",
    "    conn.execute(\"INSERT INTO city_season VALUES('Cairo', 'Egypt', 'Summer', 27.7, 0.1);\")\n",
    "    conn.execute(\"INSERT INTO city_season VALUES('Cairo', 'Egypt', 'Fall', 22.2, 4.5);\")\n",
    "\n",
    "    cur.execute(\"SELECT temperature from city_season\")\n",
    "    my_result =cur.fetchall()             \n",
    "    print(\"Output 1: All the temperature data\")\n",
    "    for x in my_result:\n",
    "      print(x, end=\"\")\n",
    "\n",
    "    print()\n",
    "    cur.execute(\"SELECT DISTINCT(city) from city_season\")\n",
    "    my_result = cur.fetchall()\n",
    "    print(\"\\nOutput 2: All the cities, but without repetition\")\n",
    "    for x in my_result:                          \n",
    "      print(x, end=\"\")\n",
    "\n",
    "    print()\n",
    "    cur.execute(\"SELECT * from city_season where country = 'India'\")\n",
    "    my_result = cur.fetchall()\n",
    "    print(\"\\nOutput 3: All the records for India\")\n",
    "    for x in my_result:                             \n",
    "      print(x, end=\"\")\n",
    "\n",
    "    print()\n",
    "    cur.execute(\"SELECT * from city_season where season = 'Fall'\")\n",
    "    my_result = cur.fetchall()\n",
    "    print(\"\\nOutput 4: All the Fall records\")\n",
    "    for x in my_result:                             \n",
    "      print(x, end=\"\")\n",
    "\n",
    "    print()\n",
    "    cur.execute(\"SELECT city,country,season from city_season where rainfall BETWEEN 200 and 400\")\n",
    "    my_result = cur.fetchall()\n",
    "    print(\"\\nOutput 5: The city, country, and season for which the average rainfall is between 200 and 400 millimeters\")\n",
    "    for x in my_result:                                \n",
    "      print(x, end=\"\")\n",
    "\n",
    "    print()\n",
    "    cur.execute(\"SELECT city,country from city_season where (season = 'Fall' and temperature > 20) Order BY temperature ASC \")\n",
    "    my_result = cur.fetchall()\n",
    "    print(\"\\nOutput 6: The city and country for which the average Fall temperature is above 20 degrees, in increasing temperature order\")\n",
    "    for x in my_result:                                \n",
    "      print(x, end=\"\")\n",
    "\n",
    "    print()\n",
    "    cur.execute(\"SELECT sum(rainfall) from city_season where city = 'Cairo'\")\n",
    "    my_result = cur.fetchall()\n",
    "    print(\"\\nOutput 7: The total annual rainfall for Cairo\")\n",
    "    for x in my_result:\n",
    "      print(x, end=\"\")                                      \n",
    "\n",
    "    print()\n",
    "    cur.execute(\"SELECT season, sum(rainfall) from city_season group by season\")\n",
    "    my_result = cur.fetchall()\n",
    "    print(\"\\nOutput 8: The total rainfall for each season\")\n",
    "    for x in my_result:                                   \n",
    "      print(x, end=\"\")\n",
    "\n",
    "    conn.close()\n",
    "except Exception as e:\n",
    "    print(e.__class__, \" Exception has occurred.\")"
   ]
  },
  {
   "cell_type": "markdown",
   "id": "fc37a2ed",
   "metadata": {},
   "source": [
    "Question 9"
   ]
  },
  {
   "cell_type": "code",
   "execution_count": 32,
   "id": "f54e79f8",
   "metadata": {},
   "outputs": [
    {
     "name": "stdout",
     "output_type": "stream",
     "text": [
      "1.  ['THE', 'QUICK', 'BROWN', 'FOX', 'JUMPS', 'OVER', 'THE', 'LAZY', 'DOG']\n",
      "2.  ['the', 'quick', 'brown', 'fox', 'jumps', 'over', 'the', 'lazy', 'dog']\n",
      "3.  [3, 5, 5, 3, 5, 4, 3, 4, 3]\n",
      "4.  [['THE', 'the', 3], ['QUICK', 'quick', 5], ['BROWN', 'brown', 5], ['FOX', 'fox', 3], ['JUMPS', 'jumps', 5], ['OVER', 'over', 4], ['THE', 'the', 3], ['LAZY', 'lazy', 4], ['DOG', 'dog', 3]]\n",
      "5.  ['The', 'quick', 'brown', 'fox', 'jumps', 'over', 'the', 'lazy', 'dog']\n"
     ]
    }
   ],
   "source": [
    "word_list = ['The', 'quick', 'brown', 'fox', 'jumps', 'over', 'the', 'lazy', 'dog']\n",
    "print(\"1. \",[i.upper() for i in word_list])\n",
    "print(\"2. \",[i.lower() for i in word_list])\n",
    "print(\"3. \",[len(i) for i in word_list])\n",
    "print(\"4. \",[[i.upper(), i.lower(), len(i)] for i in word_list])\n",
    "print(\"5. \",[i for i in word_list if len(i) >= 3])"
   ]
  },
  {
   "cell_type": "code",
   "execution_count": null,
   "id": "05735ef0",
   "metadata": {},
   "outputs": [],
   "source": []
  }
 ],
 "metadata": {
  "kernelspec": {
   "display_name": "Python 3 (ipykernel)",
   "language": "python",
   "name": "python3"
  },
  "language_info": {
   "codemirror_mode": {
    "name": "ipython",
    "version": 3
   },
   "file_extension": ".py",
   "mimetype": "text/x-python",
   "name": "python",
   "nbconvert_exporter": "python",
   "pygments_lexer": "ipython3",
   "version": "3.9.13"
  }
 },
 "nbformat": 4,
 "nbformat_minor": 5
}
